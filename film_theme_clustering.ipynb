{
 "cells": [
  {
   "cell_type": "code",
   "execution_count": null,
   "metadata": {},
   "outputs": [
    {
     "name": "stderr",
     "output_type": "stream",
     "text": [
      "c:\\nlp\\nlp\\Lib\\site-packages\\tqdm\\auto.py:21: TqdmWarning: IProgress not found. Please update jupyter and ipywidgets. See https://ipywidgets.readthedocs.io/en/stable/user_install.html\n",
      "  from .autonotebook import tqdm as notebook_tqdm\n"
     ]
    }
   ],
   "source": [
    "from sklearn.feature_extraction.text import TfidfVectorizer\n",
    "from sklearn.cluster \n",
    "KMeans\n",
    "import re\n",
    "import json\n",
    "import nltk\n",
    "from nltk.sentiment import SentimentIntensityAnalyzer\n",
    "import matplotlib.pyplot as plt\n",
    "import numpy as np\n",
    "from sklearn.feature_extraction.text import TfidfVectorizer\n",
    "from nltk.corpus import stopwords\n",
    "import pandas as pd \n",
    "from IPython.display import display\n",
    "from transformers  import pipeline\n",
    "import torch"
   ]
  },
  {
   "cell_type": "code",
   "execution_count": 2,
   "metadata": {},
   "outputs": [],
   "source": [
    "def load_reviews(file_path):\n",
    "    with open(file_path, 'r', encoding='utf-8') as file:\n",
    "        reviews = file.readlines()\n",
    "    return reviews\n",
    "\n"
   ]
  },
  {
   "cell_type": "code",
   "execution_count": 3,
   "metadata": {},
   "outputs": [],
   "source": [
    "# Charger les titres des films depuis le fichier JSON\n",
    "def load_movie_titles(json_file):\n",
    "    with open(json_file, 'r', encoding='utf-8') as file:\n",
    "        movie_titles = json.load(file)\n",
    "    return movie_titles\n",
    "\n"
   ]
  },
  {
   "cell_type": "code",
   "execution_count": 4,
   "metadata": {},
   "outputs": [],
   "source": [
    "# Fonction pour compter les critiques en ignorant les espaces et les titres\n",
    "def count_reviews(reviews, movie_titles):\n",
    "    total_reviews = 0\n",
    "    \n",
    "    # Parcourir chaque ligne du fichier de critiques\n",
    "    for line in reviews:\n",
    "        line = line.strip()  # Enlever les espaces en début et fin de ligne\n",
    "\n",
    "        # Si la ligne est vide, on l'ignore\n",
    "        if not line:\n",
    "            continue\n",
    "\n",
    "        # Si la ligne commence par \"Film : \", on extrait le titre du film\n",
    "        if line.startswith(\"Film : \"):\n",
    "            title = line[len(\"Film : \"):].strip()  # Extraire le titre du film\n",
    "            if title in movie_titles:\n",
    "                continue  # Ignorer cette ligne car c'est un titre de film\n",
    "        \n",
    "        # Si la ligne est une critique (autre que titre et espace), on l'ajoute au total\n",
    "        total_reviews += 1\n",
    "\n",
    "    return total_reviews"
   ]
  },
  {
   "cell_type": "code",
   "execution_count": 5,
   "metadata": {},
   "outputs": [
    {
     "name": "stdout",
     "output_type": "stream",
     "text": [
      "Nombre total de critiques : 750\n"
     ]
    }
   ],
   "source": [
    "# Charger les fichiers\n",
    "file_path = 'critiques_films.txt'  # Chemin vers le fichier de critiques\n",
    "json_file = r'C:\\nlp\\movie_titles.json'  # Chemin vers le fichier JSON des titres\n",
    "\n",
    "reviews = load_reviews(file_path)\n",
    "movie_titles = load_movie_titles(json_file)\n",
    "\n",
    "# Compter le nombre de critiques\n",
    "total_reviews = count_reviews(reviews, movie_titles)\n",
    "\n",
    "# Afficher le nombre total de critiques\n",
    "print(f\"Nombre total de critiques : {total_reviews}\")"
   ]
  },
  {
   "cell_type": "code",
   "execution_count": 6,
   "metadata": {},
   "outputs": [
    {
     "name": "stdout",
     "output_type": "stream",
     "text": [
      "Exemple de critique nettoyée : on aurait pu sattendre de le part de spielberg à un manichéisme bien politiquement correct on a au contraire une oeuvre sobre dotée dun regard juste et réfléchi sur la nature humaine le réalisateur a réussi à éviter tous les écueils dans lesquels il aurait pourtant été facile de tomber  cest dautant plus admirable emouvant parce que brillant\n",
      "Nombre de critiques nettoyées : 750\n"
     ]
    }
   ],
   "source": [
    "def preprocess_reviews(reviews, movie_titles):\n",
    "    processed_reviews = []\n",
    "    \n",
    "    for review in reviews:\n",
    "        review = review.strip()  # Enlever les espaces au début et à la fin de la ligne\n",
    "\n",
    "        # Si la ligne est vide ou si la ligne est un titre de film, on l'ignore\n",
    "        if not review or review.startswith(\"Film : \"):\n",
    "            continue\n",
    "\n",
    "        # Sinon, on prétraite la critique\n",
    "        review = review.lower()  # Mettre en minuscules\n",
    "        review = re.sub(r'\\d+', '', review)  # Supprimer les chiffres\n",
    "        review = re.sub(r'[^\\w\\s]', '', review)  # Supprimer la ponctuation\n",
    "        processed_reviews.append(review)\n",
    "    \n",
    "    return processed_reviews\n",
    "\n",
    "# Appliquer le prétraitement\n",
    "reviews_cleaned = preprocess_reviews(reviews, movie_titles)\n",
    "print(f\"Exemple de critique nettoyée : {reviews_cleaned[16]}\")\n",
    "print(f\"Nombre de critiques nettoyées : {len(reviews_cleaned)}\")"
   ]
  },
  {
   "cell_type": "code",
   "execution_count": 7,
   "metadata": {},
   "outputs": [
    {
     "data": {
      "text/html": [
       "<div>\n",
       "<style scoped>\n",
       "    .dataframe tbody tr th:only-of-type {\n",
       "        vertical-align: middle;\n",
       "    }\n",
       "\n",
       "    .dataframe tbody tr th {\n",
       "        vertical-align: top;\n",
       "    }\n",
       "\n",
       "    .dataframe thead th {\n",
       "        text-align: right;\n",
       "    }\n",
       "</style>\n",
       "<table border=\"1\" class=\"dataframe\">\n",
       "  <thead>\n",
       "    <tr style=\"text-align: right;\">\n",
       "      <th></th>\n",
       "      <th>critique</th>\n",
       "      <th>film_title</th>\n",
       "    </tr>\n",
       "  </thead>\n",
       "  <tbody>\n",
       "    <tr>\n",
       "      <th>557</th>\n",
       "      <td>film culte et grand classique du cinéma ce éni...</td>\n",
       "      <td>Les Temps modernes</td>\n",
       "    </tr>\n",
       "    <tr>\n",
       "      <th>436</th>\n",
       "      <td>jhabite a tokyo depuis  ans et jai pu voir kim...</td>\n",
       "      <td>Your Name</td>\n",
       "    </tr>\n",
       "    <tr>\n",
       "      <th>456</th>\n",
       "      <td>coco pourrait très bien marquer un tournant da...</td>\n",
       "      <td>Coco</td>\n",
       "    </tr>\n",
       "    <tr>\n",
       "      <th>193</th>\n",
       "      <td>surement le meilleur western mis en scène serg...</td>\n",
       "      <td>Le Bon, la brute et le truand</td>\n",
       "    </tr>\n",
       "    <tr>\n",
       "      <th>394</th>\n",
       "      <td>je crois que jen attendais un peu trop et que ...</td>\n",
       "      <td>Parasite</td>\n",
       "    </tr>\n",
       "    <tr>\n",
       "      <th>459</th>\n",
       "      <td>cest un magnifique voyage que nous propose cet...</td>\n",
       "      <td>Coco</td>\n",
       "    </tr>\n",
       "    <tr>\n",
       "      <th>679</th>\n",
       "      <td>il y a très longtemps dans une galaxie lointa...</td>\n",
       "      <td>Star Wars : Episode IV - Un nouvel espoir (La ...</td>\n",
       "    </tr>\n",
       "    <tr>\n",
       "      <th>117</th>\n",
       "      <td>avec  césars à son actif et considéré comme lu...</td>\n",
       "      <td>Vol au-dessus d'un nid de coucou</td>\n",
       "    </tr>\n",
       "    <tr>\n",
       "      <th>258</th>\n",
       "      <td>premier volet dune des plus grandes trilogies ...</td>\n",
       "      <td>Le Seigneur des anneaux : la communautÃ© de l'...</td>\n",
       "    </tr>\n",
       "    <tr>\n",
       "      <th>125</th>\n",
       "      <td>sil ne fallait retenir quun seul disney ce ser...</td>\n",
       "      <td>Le Roi Lion</td>\n",
       "    </tr>\n",
       "  </tbody>\n",
       "</table>\n",
       "</div>"
      ],
      "text/plain": [
       "                                              critique  \\\n",
       "557  film culte et grand classique du cinéma ce éni...   \n",
       "436  jhabite a tokyo depuis  ans et jai pu voir kim...   \n",
       "456  coco pourrait très bien marquer un tournant da...   \n",
       "193  surement le meilleur western mis en scène serg...   \n",
       "394  je crois que jen attendais un peu trop et que ...   \n",
       "459  cest un magnifique voyage que nous propose cet...   \n",
       "679   il y a très longtemps dans une galaxie lointa...   \n",
       "117  avec  césars à son actif et considéré comme lu...   \n",
       "258  premier volet dune des plus grandes trilogies ...   \n",
       "125  sil ne fallait retenir quun seul disney ce ser...   \n",
       "\n",
       "                                            film_title  \n",
       "557                                 Les Temps modernes  \n",
       "436                                          Your Name  \n",
       "456                                               Coco  \n",
       "193                      Le Bon, la brute et le truand  \n",
       "394                                           Parasite  \n",
       "459                                               Coco  \n",
       "679  Star Wars : Episode IV - Un nouvel espoir (La ...  \n",
       "117                   Vol au-dessus d'un nid de coucou  \n",
       "258  Le Seigneur des anneaux : la communautÃ© de l'...  \n",
       "125                                        Le Roi Lion  "
      ]
     },
     "metadata": {},
     "output_type": "display_data"
    }
   ],
   "source": [
    "with open('movie_titles.json', 'r') as file:\n",
    "    movie_titles = json.load(file)\n",
    "\n",
    "\n",
    "\n",
    "# Créer un DataFrame avec les critiques\n",
    "df = pd.DataFrame({'critique': reviews_cleaned})\n",
    "\n",
    "# Assigner un titre de film à chaque critique. Répartir les 50 titres parmi les 750 critiques.\n",
    "df['film_title'] = [movie_titles[i // (len(reviews_cleaned) // 50)] for i in range(len(reviews_cleaned))]\n",
    "\n",
    "# Vérifier la structure du DataFrame\n",
    "display(df.sample(10))"
   ]
  },
  {
   "cell_type": "code",
   "execution_count": null,
   "metadata": {},
   "outputs": [
    {
     "name": "stderr",
     "output_type": "stream",
     "text": [
      "Some weights of BertForSequenceClassification were not initialized from the model checkpoint at bert-base-uncased and are newly initialized: ['classifier.bias', 'classifier.weight']\n",
      "You should probably TRAIN this model on a down-stream task to be able to use it for predictions and inference.\n"
     ]
    }
   ],
   "source": [
    "from transformers import BertTokenizer, BertForSequenceClassification\n",
    "import torch\n",
    "from torch.nn.functional import softmax\n",
    "\n",
    "model = BertForSequenceClassification.from_pretrained('bert-base-uncased')\n",
    "tokenizer = BertTokenizer.from_pretrained('bert-base-uncased')\n",
    "\n",
    "# Ensure to move the model to the correct device (GPU/CPU)\n",
    "model = model.to('cuda') if torch.cuda.is_available() else model.to('cpu')"
   ]
  },
  {
   "cell_type": "code",
   "execution_count": 9,
   "metadata": {},
   "outputs": [],
   "source": [
    "# Définir le device (GPU si disponible, sinon CPU)\n",
    "device = torch.device('cuda' if torch.cuda.is_available() else 'cpu')\n",
    "\n",
    "# Assurez-vous que le modèle est aussi sur le bon device\n",
    "model = model.to(device)\n",
    "\n",
    "def split_review(review, max_length=512):\n",
    "    # Tokenisation de la critique\n",
    "    tokens = tokenizer.tokenize(review)\n",
    "    \n",
    "    # Diviser les tokens en morceaux de taille 'max_length'\n",
    "    chunks = [tokens[i:i+max_length] for i in range(0, len(tokens), max_length)]\n",
    "    \n",
    "    # Recomposer les morceaux en texte\n",
    "    return [tokenizer.convert_tokens_to_string(chunk) for chunk in chunks]"
   ]
  },
  {
   "cell_type": "code",
   "execution_count": 10,
   "metadata": {},
   "outputs": [],
   "source": [
    "def get_sentiment_for_review(review):\n",
    "    # Diviser la critique en morceaux\n",
    "    chunks = split_review(review)\n",
    "\n",
    "    sentiments = []\n",
    "\n",
    "    # Analyser chaque morceau\n",
    "    for chunk in chunks:\n",
    "        # Tokenisation et envoi sur le device (GPU/CPU)\n",
    "        inputs = tokenizer(chunk, truncation=True, padding=True, max_length=512, return_tensors='pt').to(device)\n",
    "        outputs = model(**inputs)  # Obtenir les logits du modèle\n",
    "        logits = outputs.logits\n",
    "\n",
    "        # Appliquer softmax pour obtenir les probabilités\n",
    "        probs = softmax(logits, dim=1)\n",
    "\n",
    "        # Ajouter la probabilité de la classe dominante\n",
    "        sentiments.append(probs.max().item())  # Probabilité de la classe la plus probable\n",
    "\n",
    "    # Calculer la moyenne des sentiments\n",
    "    final_sentiment = sum(sentiments) / len(sentiments)\n",
    "    \n",
    "    return final_sentiment"
   ]
  },
  {
   "cell_type": "code",
   "execution_count": 11,
   "metadata": {},
   "outputs": [],
   "source": [
    "df['sentiment'] = df['critique'].apply(get_sentiment_for_review)\n",
    "\n"
   ]
  },
  {
   "cell_type": "code",
   "execution_count": 12,
   "metadata": {},
   "outputs": [
    {
     "name": "stdout",
     "output_type": "stream",
     "text": [
      "                                            film_title  \\\n",
      "9                                         Forrest Gump   \n",
      "80                                         Les EvadÃ©s   \n",
      "675  Star Wars : Episode IV - Un nouvel espoir (La ...   \n",
      "692               Spider-Man : Across The Spider-Verse   \n",
      "6                                         Forrest Gump   \n",
      "147                 The Dark Knight, Le Chevalier Noir   \n",
      "613                            Le Tombeau des lucioles   \n",
      "710                               Le Voyage de Chihiro   \n",
      "212                                          Gladiator   \n",
      "100         Le Seigneur des anneaux : le retour du roi   \n",
      "\n",
      "                                              critique  sentiment  \n",
      "9    forrest gump est sans aucun doute le meilleur ...   0.507717  \n",
      "80   des films sur lunivers carcéral il y a en a eu...   0.519991  \n",
      "675  ah ce film immortel magnifique novateur george...   0.508543  \n",
      "692  je lattendais depuis longtemps et cest une vra...   0.520420  \n",
      "6    la vie cest comme une boîte de chocolats on ne...   0.508769  \n",
      "147   the dark knight  second volet de la trilogie ...   0.514935  \n",
      "613  la singularité du tombeau des lucioles réside ...   0.511253  \n",
      "710   le voyage de chihiro  dévoile un miyazaki au ...   0.504168  \n",
      "212  ce péplum est sans aucun doute le meilleur que...   0.510551  \n",
      "100  le retour du roiest la conclusion en apothéose...   0.502037  \n"
     ]
    }
   ],
   "source": [
    "# Voir le DataFrame avec les sentiments\n",
    "print(df[['film_title', 'critique', 'sentiment']].sample(10))"
   ]
  },
  {
   "cell_type": "code",
   "execution_count": 15,
   "metadata": {},
   "outputs": [
    {
     "name": "stdout",
     "output_type": "stream",
     "text": [
      "               film_title                                           critique  \\\n",
      "443             Your Name  je ne suis pas amateur de ce genre de film jai...   \n",
      "451                  Coco  que dire du nouveau disneypixar  en un mot  su...   \n",
      "68             Le Parrain  francis ford coppola signait en  un véritable ...   \n",
      "44         La Ligne verte  un superbe film fantastique et émouvant dans l...   \n",
      "66             Le Parrain  le parrain est un film de gangsters culte et l...   \n",
      "652              Psychose  vèritable film phare dalfred hitchcock ou susp...   \n",
      "480  Retour vers le futur  attachez vos ceintures grisant et diablement s...   \n",
      "319           Gran Torino  écrire sa critique sur gran torino en  cest ma...   \n",
      "659              Psychose  une référence du thriller signé dune main de m...   \n",
      "465             Inception  après le chef doeuvre superhéroïque the dark k...   \n",
      "\n",
      "     sentiment  \n",
      "443   0.500069  \n",
      "451   0.500151  \n",
      "68    0.500152  \n",
      "44    0.500172  \n",
      "66    0.500217  \n",
      "652   0.500223  \n",
      "480   0.500226  \n",
      "319   0.500308  \n",
      "659   0.500338  \n",
      "465   0.500367  \n"
     ]
    }
   ],
   "source": [
    "df_sorted = df.sort_values(by='sentiment', ascending=True)\n",
    "\n",
    "# Afficher les 10 lignes ayant les moindres sentiments\n",
    "print(df_sorted[['film_title', 'critique', 'sentiment']].head(10))"
   ]
  },
  {
   "cell_type": "code",
   "execution_count": 16,
   "metadata": {},
   "outputs": [],
   "source": [
    "from transformers import BartForConditionalGeneration, BartTokenizer\n",
    "\n",
    "\n",
    "model_name = \"facebook/bart-large-cnn\"  # Modèle pré-entraîné pour le résumé\n",
    "model = BartForConditionalGeneration.from_pretrained(model_name)\n",
    "tokenizer = BartTokenizer.from_pretrained(model_name)"
   ]
  },
  {
   "cell_type": "code",
   "execution_count": 17,
   "metadata": {},
   "outputs": [],
   "source": [
    "def split_text_into_batches(text, max_length=1024):\n",
    "    tokens = tokenizer.tokenize(text)\n",
    "    chunks = [tokens[i:i + max_length] for i in range(0, len(tokens), max_length)]\n",
    "    return [tokenizer.convert_tokens_to_string(chunk) for chunk in chunks]\n"
   ]
  },
  {
   "cell_type": "code",
   "execution_count": 18,
   "metadata": {},
   "outputs": [],
   "source": [
    "def generate_summary_for_long_text(text, max_length=130, min_length=30):\n",
    "    chunks = split_text_into_batches(text)\n",
    "    summaries = []\n",
    "    \n",
    "    for chunk in chunks:\n",
    "        inputs = tokenizer(chunk, max_length=1024, truncation=True, return_tensors=\"pt\")\n",
    "        \n",
    "        # Si vous avez un GPU\n",
    "        if torch.cuda.is_available():\n",
    "            model.to(\"cuda\")\n",
    "            inputs = {key: value.to(\"cuda\") for key, value in inputs.items()}\n",
    "        \n",
    "        summary_ids = model.generate(\n",
    "            inputs[\"input_ids\"], \n",
    "            max_length=max_length, \n",
    "            min_length=min_length, \n",
    "            length_penalty=2.0, \n",
    "            num_beams=4, \n",
    "            early_stopping=True\n",
    "        )\n",
    "        summaries.append(tokenizer.decode(summary_ids[0], skip_special_tokens=True))\n",
    "    \n",
    "    # Combinez les résumés des morceaux\n",
    "    return \" \".join(summaries)\n"
   ]
  },
  {
   "cell_type": "code",
   "execution_count": 19,
   "metadata": {},
   "outputs": [],
   "source": [
    "# Groupement des critiques par film\n",
    "grouped_reviews = df.groupby('film_title')['critique'].apply(lambda x: ' '.join(x)).reset_index()\n",
    "\n",
    "# Générer un résumé pour chaque film\n",
    "grouped_reviews['summary'] = grouped_reviews['critique'].apply(generate_summary_for_long_text)\n"
   ]
  },
  {
   "cell_type": "code",
   "execution_count": 20,
   "metadata": {},
   "outputs": [
    {
     "name": "stdout",
     "output_type": "stream",
     "text": [
      "                film_title                                            summary\n",
      "0     12 hommes en colÃ¨re  Hommes en colère fait partie de cette catégori...\n",
      "1       American History X  derek et danny sont deux frères en plein cœur ...\n",
      "2                     Coco  en  après le rachat tout frais de pixar par di...\n",
      "3         Django Unchained  django unchained est avant tout un grand spect...\n",
      "4  Dune : DeuxiÃ¨me Partie  que dire chaque plan est éblouissant cest spec...\n"
     ]
    }
   ],
   "source": [
    "print(grouped_reviews[['film_title', 'summary']].head())\n"
   ]
  },
  {
   "cell_type": "code",
   "execution_count": 25,
   "metadata": {},
   "outputs": [],
   "source": [
    "from sklearn.feature_extraction.text import TfidfVectorizer\n",
    "import heapq\n"
   ]
  },
  {
   "cell_type": "code",
   "execution_count": 37,
   "metadata": {},
   "outputs": [],
   "source": [
    "french_stop_words = [\n",
    "    \"le\", \"la\", \"les\", \"de\", \"des\", \"en\", \"un\", \"une\", \"et\", \"à\", \"dans\", \"du\", \"que\", \"qui\", \"ce\", \"il\", \"elle\", \"nous\", \"vous\", \n",
    "    \"ils\", \"elles\", \"par\", \"pour\", \"avec\", \"sur\", \"se\", \"ne\", \"pas\", \"plus\", \"tout\", \"tous\", \"toute\", \"toutes\", \"au\", \"aux\", \"sont\",\n",
    "    \"a\", \"au\", \"une\", \"l\", \"m\", \"n\", \"y\", \"le\", \"la\", \"les\"\n",
    "]"
   ]
  },
  {
   "cell_type": "code",
   "execution_count": 38,
   "metadata": {},
   "outputs": [],
   "source": [
    "def extract_keywords(text, n=5):\n",
    "    # Utilisation de TfidfVectorizer pour extraire les mots-clés en français\n",
    "    tfidf_vectorizer = TfidfVectorizer(stop_words=french_stop_words)\n",
    "    tfidf_matrix = tfidf_vectorizer.fit_transform([text])\n",
    "    feature_names = tfidf_vectorizer.get_feature_names_out()\n",
    "    \n",
    "    # Calcul des scores des mots-clés\n",
    "    scores = tfidf_matrix.sum(axis=0).A1\n",
    "    word_score = {word: scores[idx] for idx, word in enumerate(feature_names)}\n",
    "    \n",
    "    # Récupération des n mots-clés les plus importants\n",
    "    top_keywords = heapq.nlargest(n, word_score, key=word_score.get)\n",
    "    return top_keywords"
   ]
  },
  {
   "cell_type": "code",
   "execution_count": 39,
   "metadata": {},
   "outputs": [],
   "source": [
    "def generate_summary(critique, keywords, max_lines=4):\n",
    "    # Diviser la critique en phrases\n",
    "    sentences = critique.split('. ')\n",
    "    \n",
    "    # Filtrer les phrases qui contiennent les mots-clés\n",
    "    relevant_sentences = [sentence for sentence in sentences if any(keyword in sentence for keyword in keywords)]\n",
    "    \n",
    "    # Prendre jusqu'à `max_lines` phrases pertinentes\n",
    "    summary = '. '.join(relevant_sentences[:max_lines]) + '.'\n",
    "    return summary"
   ]
  },
  {
   "cell_type": "code",
   "execution_count": 42,
   "metadata": {},
   "outputs": [
    {
     "name": "stdout",
     "output_type": "stream",
     "text": [
      "Hommes en colère fait partie de cette catégorie de films. Les techniques cinématographiques qui changent ne perdent pas de leur impact initial. Les jurés du film des jurés aux personnalités remarquablement étudiées. ide de culpabilité quils ont prononcé contre un jeune homme accusé de meurtre la mise en scène théâtrale est un véritable atout latmosphère claustrophobe du film est prenante. Acteurs tirent parfaitement son épingle de jeu that ce soit lee j cobb ou bien évidemment henry fonda une fois de plus grandiose. Ce juré nest pas totalement convaincu non plus de sa culpabilité chacune des pièces de laccusation  un couteau des témoignages le plan dun appartement etc. va donc être passé au crible par le jury dans le désordre des souvenirs de chacun. Le film au départ multiplie les plans densemble la caméra. re lindividualité de chacun des personnages en les plaçant toujours adroitement dans le cadre chaque plan ninclut en effet. des classes sociales et des origines différentes sidney lumet rend dabord hommage à la justice de son pays. ériode couleur il me semble  à créer un sentiment de claustrophobie et de folie. La salle  sécroulait  sur ellemêmeoutre la découverte dun talent de réalisateur. Le jeu des acteurs et les trouvailles de lhistoire sont les deux autres très grand points fort of ce film. The culpabilité du jeune homme semble plus quévidente  plus les jurés vont creuser  dans les détails de laffaire. On aimerait rentrer dans lécran pour participer au débat et avancer également nos argumentsspoiler. On ne va décrocher alors que le film ne se déroule que dans une seul et même pièce. Hommes en colères  est un excellent huis clos qui nous tient en haleine du début à la fin. Le film aurait facilement pu être incroyablement chiant mais que nenni  en plus dêtre riche en rebondissement. Le récit ne se déroule que dans une seule pièce certes la mise en scène est minimaliste. out lunivers des tribunaux avec ses protocoles ses acteurs et ses symboles parmi tous ces éléments il y a le jury et le mystère. reginald rose a eu la brillante idée dinventer une cause et dignorer la règle en nous faisant spectateurs.\n",
      "Hommes en colère fait partie de cette catégorie de films. Les jurés du film des jurés aux personnalités remarquablement étudiées. ide de culpabilité quils ont prononcé contre un jeune homme accusé de meurtre la mise en scène théâtrale est un véritable atout latmosphère claustrophobe du film est prenante. Ce juré nest pas totalement convaincu non plus de sa culpabilité chacune des pièces de laccusation  un couteau des témoignages le plan dun appartement etc.\n",
      "2145\n",
      "461\n"
     ]
    }
   ],
   "source": [
    "summaries = []\n",
    "for index, row in grouped_reviews.iterrows():\n",
    "    # Extraire les mots-clés\n",
    "    keywords = extract_keywords(row['summary'])\n",
    "    \n",
    "    # Générer un résumé condensé\n",
    "    summary = generate_summary(row['summary'], keywords)\n",
    "    summaries.append(summary)\n",
    "\n",
    "# Ajouter les résumés au DataFrame\n",
    "grouped_reviews['condensed_summary'] = summaries\n",
    "\n",
    "# Afficher les résultats\n",
    "#print(grouped_reviews[['film_title', 'condensed_summary']])\n",
    "\n",
    "print(grouped_reviews[\"summary\"][0])\n",
    "print(grouped_reviews[\"condensed_summary\"][0])\n",
    "print(len(grouped_reviews[\"summary\"][0]))\n",
    "print(len(grouped_reviews[\"condensed_summary\"][0]))"
   ]
  },
  {
   "cell_type": "code",
   "execution_count": 44,
   "metadata": {},
   "outputs": [],
   "source": [
    "grouped_reviews.to_csv('grouped_reviews.csv', index=False)"
   ]
  },
  {
   "cell_type": "code",
   "execution_count": 58,
   "metadata": {},
   "outputs": [
    {
     "name": "stdout",
     "output_type": "stream",
     "text": [
      "20773\n",
      "les critiques du premier film par exemple contiennent  20773 mots\n"
     ]
    }
   ],
   "source": [
    "s=0\n",
    "for i in range(14):\n",
    "    s = len(df[\"critique\"][i]) + s\n",
    "\n",
    "print(s)\n",
    "print(\"les critiques du premier film par exemple contiennent \", s, \"mots\")"
   ]
  },
  {
   "cell_type": "code",
   "execution_count": 57,
   "metadata": {},
   "outputs": [
    {
     "name": "stdout",
     "output_type": "stream",
     "text": [
      "1221\n",
      "495\n"
     ]
    }
   ],
   "source": [
    "#reduction du nombre des mots \n",
    "print(len(grouped_reviews[\"summary\"][1]))\n",
    "print(len(grouped_reviews[\"condensed_summary\"][1]))\n"
   ]
  },
  {
   "cell_type": "code",
   "execution_count": null,
   "metadata": {},
   "outputs": [],
   "source": [
    " "
   ]
  }
 ],
 "metadata": {
  "kernelspec": {
   "display_name": "nlp",
   "language": "python",
   "name": "python3"
  },
  "language_info": {
   "codemirror_mode": {
    "name": "ipython",
    "version": 3
   },
   "file_extension": ".py",
   "mimetype": "text/x-python",
   "name": "python",
   "nbconvert_exporter": "python",
   "pygments_lexer": "ipython3",
   "version": "3.12.4"
  }
 },
 "nbformat": 4,
 "nbformat_minor": 2
}
